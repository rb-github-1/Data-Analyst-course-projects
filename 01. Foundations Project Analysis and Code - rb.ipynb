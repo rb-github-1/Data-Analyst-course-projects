{
 "cells": [
  {
   "cell_type": "markdown",
   "metadata": {},
   "source": [
    "### Project Brief : Does FPB have employment bias based on Gender"
   ]
  },
  {
   "cell_type": "code",
   "execution_count": 50,
   "metadata": {},
   "outputs": [],
   "source": [
    "# 3. Implementation\n",
    "\n",
    "# 3.1  Importing the Python libraries to be used in the statistical analysis of the HR Data\n",
    "\n",
    "import pandas as pd\n",
    "import numpy as np\n",
    "from scipy import stats\n",
    "import random\n",
    "import matplotlib.pyplot as plt\n",
    "import seaborn as sns"
   ]
  },
  {
   "cell_type": "code",
   "execution_count": 51,
   "metadata": {},
   "outputs": [
    {
     "data": {
      "text/html": [
       "<div>\n",
       "<style scoped>\n",
       "    .dataframe tbody tr th:only-of-type {\n",
       "        vertical-align: middle;\n",
       "    }\n",
       "\n",
       "    .dataframe tbody tr th {\n",
       "        vertical-align: top;\n",
       "    }\n",
       "\n",
       "    .dataframe thead th {\n",
       "        text-align: right;\n",
       "    }\n",
       "</style>\n",
       "<table border=\"1\" class=\"dataframe\">\n",
       "  <thead>\n",
       "    <tr style=\"text-align: right;\">\n",
       "      <th></th>\n",
       "      <th>EmpID</th>\n",
       "      <th>UserName</th>\n",
       "      <th>FirstName</th>\n",
       "      <th>LastName</th>\n",
       "      <th>Gender</th>\n",
       "      <th>Ethnicity</th>\n",
       "      <th>Birth_Date</th>\n",
       "      <th>Age_Yrs</th>\n",
       "      <th>Year_Joined</th>\n",
       "      <th>Month_Joined</th>\n",
       "      <th>Day_Joined</th>\n",
       "      <th>Salary</th>\n",
       "      <th>SSN</th>\n",
       "      <th>PhoneNum</th>\n",
       "      <th>Marital_Status</th>\n",
       "      <th>City</th>\n",
       "      <th>US_State</th>\n",
       "      <th>Zip_code</th>\n",
       "      <th>US_Region</th>\n",
       "      <th>Password</th>\n",
       "    </tr>\n",
       "  </thead>\n",
       "  <tbody>\n",
       "    <tr>\n",
       "      <td>0</td>\n",
       "      <td>407061</td>\n",
       "      <td>aalger</td>\n",
       "      <td>Angelina</td>\n",
       "      <td>Alger</td>\n",
       "      <td>Female</td>\n",
       "      <td>White (non-Hispanic)</td>\n",
       "      <td>8/15/1964</td>\n",
       "      <td>41</td>\n",
       "      <td>2005</td>\n",
       "      <td>January</td>\n",
       "      <td>Wednesday</td>\n",
       "      <td>82232</td>\n",
       "      <td>660-24-4434</td>\n",
       "      <td>603-568-6118</td>\n",
       "      <td>Married</td>\n",
       "      <td>Rochester</td>\n",
       "      <td>NH</td>\n",
       "      <td>3867</td>\n",
       "      <td>Northeast</td>\n",
       "      <td>EAHcnWsf6xMRwr]</td>\n",
       "    </tr>\n",
       "  </tbody>\n",
       "</table>\n",
       "</div>"
      ],
      "text/plain": [
       "    EmpID UserName FirstName LastName  Gender             Ethnicity  \\\n",
       "0  407061   aalger  Angelina    Alger  Female  White (non-Hispanic)   \n",
       "\n",
       "  Birth_Date  Age_Yrs  Year_Joined Month_Joined Day_Joined  Salary  \\\n",
       "0  8/15/1964       41         2005      January  Wednesday   82232   \n",
       "\n",
       "           SSN      PhoneNum Marital_Status       City US_State  Zip_code  \\\n",
       "0  660-24-4434  603-568-6118        Married  Rochester       NH      3867   \n",
       "\n",
       "   US_Region         Password  \n",
       "0  Northeast  EAHcnWsf6xMRwr]  "
      ]
     },
     "execution_count": 51,
     "metadata": {},
     "output_type": "execute_result"
    }
   ],
   "source": [
    "# 3.2  Loading and checking the HR data\n",
    "\n",
    "df = pd.read_csv('Foundations-data.csv')\n",
    "df.head(1)"
   ]
  },
  {
   "cell_type": "code",
   "execution_count": 52,
   "metadata": {
    "scrolled": true
   },
   "outputs": [
    {
     "data": {
      "text/plain": [
       "EmpID              int64\n",
       "UserName          object\n",
       "FirstName         object\n",
       "LastName          object\n",
       "Gender            object\n",
       "Ethnicity         object\n",
       "Birth_Date        object\n",
       "Age_Yrs            int64\n",
       "Year_Joined        int64\n",
       "Month_Joined      object\n",
       "Day_Joined        object\n",
       "Salary             int64\n",
       "SSN               object\n",
       "PhoneNum          object\n",
       "Marital_Status    object\n",
       "City              object\n",
       "US_State          object\n",
       "Zip_code           int64\n",
       "US_Region         object\n",
       "Password          object\n",
       "dtype: object"
      ]
     },
     "execution_count": 52,
     "metadata": {},
     "output_type": "execute_result"
    }
   ],
   "source": [
    "df.dtypes"
   ]
  },
  {
   "cell_type": "code",
   "execution_count": 53,
   "metadata": {},
   "outputs": [],
   "source": [
    "# 3.3 Redacting the data\n",
    "\n",
    "df2 = pd.read_csv('Foundations-data.csv',usecols = ['Gender','Salary'])"
   ]
  },
  {
   "cell_type": "code",
   "execution_count": 54,
   "metadata": {},
   "outputs": [
    {
     "data": {
      "text/html": [
       "<div>\n",
       "<style scoped>\n",
       "    .dataframe tbody tr th:only-of-type {\n",
       "        vertical-align: middle;\n",
       "    }\n",
       "\n",
       "    .dataframe tbody tr th {\n",
       "        vertical-align: top;\n",
       "    }\n",
       "\n",
       "    .dataframe thead th {\n",
       "        text-align: right;\n",
       "    }\n",
       "</style>\n",
       "<table border=\"1\" class=\"dataframe\">\n",
       "  <thead>\n",
       "    <tr style=\"text-align: right;\">\n",
       "      <th></th>\n",
       "      <th>Gender</th>\n",
       "      <th>Salary</th>\n",
       "    </tr>\n",
       "  </thead>\n",
       "  <tbody>\n",
       "    <tr>\n",
       "      <td>0</td>\n",
       "      <td>Female</td>\n",
       "      <td>82232</td>\n",
       "    </tr>\n",
       "    <tr>\n",
       "      <td>1</td>\n",
       "      <td>Male</td>\n",
       "      <td>44147</td>\n",
       "    </tr>\n",
       "    <tr>\n",
       "      <td>2</td>\n",
       "      <td>Male</td>\n",
       "      <td>93715</td>\n",
       "    </tr>\n",
       "    <tr>\n",
       "      <td>3</td>\n",
       "      <td>Female</td>\n",
       "      <td>64922</td>\n",
       "    </tr>\n",
       "    <tr>\n",
       "      <td>4</td>\n",
       "      <td>Male</td>\n",
       "      <td>67142</td>\n",
       "    </tr>\n",
       "  </tbody>\n",
       "</table>\n",
       "</div>"
      ],
      "text/plain": [
       "   Gender  Salary\n",
       "0  Female   82232\n",
       "1    Male   44147\n",
       "2    Male   93715\n",
       "3  Female   64922\n",
       "4    Male   67142"
      ]
     },
     "execution_count": 54,
     "metadata": {},
     "output_type": "execute_result"
    }
   ],
   "source": [
    "df2.head(5)"
   ]
  },
  {
   "cell_type": "markdown",
   "metadata": {},
   "source": [
    "### Summarising the HR data"
   ]
  },
  {
   "cell_type": "code",
   "execution_count": 55,
   "metadata": {
    "scrolled": true
   },
   "outputs": [
    {
     "data": {
      "text/html": [
       "<div>\n",
       "<style scoped>\n",
       "    .dataframe tbody tr th:only-of-type {\n",
       "        vertical-align: middle;\n",
       "    }\n",
       "\n",
       "    .dataframe tbody tr th {\n",
       "        vertical-align: top;\n",
       "    }\n",
       "\n",
       "    .dataframe thead th {\n",
       "        text-align: right;\n",
       "    }\n",
       "</style>\n",
       "<table border=\"1\" class=\"dataframe\">\n",
       "  <thead>\n",
       "    <tr style=\"text-align: right;\">\n",
       "      <th></th>\n",
       "      <th>count</th>\n",
       "      <th>mean</th>\n",
       "      <th>std</th>\n",
       "      <th>min</th>\n",
       "      <th>25%</th>\n",
       "      <th>50%</th>\n",
       "      <th>75%</th>\n",
       "      <th>max</th>\n",
       "    </tr>\n",
       "    <tr>\n",
       "      <th>Gender</th>\n",
       "      <th></th>\n",
       "      <th></th>\n",
       "      <th></th>\n",
       "      <th></th>\n",
       "      <th></th>\n",
       "      <th></th>\n",
       "      <th></th>\n",
       "      <th></th>\n",
       "    </tr>\n",
       "  </thead>\n",
       "  <tbody>\n",
       "    <tr>\n",
       "      <td>Female</td>\n",
       "      <td>50.0</td>\n",
       "      <td>55836.74</td>\n",
       "      <td>19487.130653</td>\n",
       "      <td>25583.0</td>\n",
       "      <td>38391.50</td>\n",
       "      <td>50971.5</td>\n",
       "      <td>74695.50</td>\n",
       "      <td>89450.0</td>\n",
       "    </tr>\n",
       "    <tr>\n",
       "      <td>Male</td>\n",
       "      <td>50.0</td>\n",
       "      <td>77480.86</td>\n",
       "      <td>23788.896931</td>\n",
       "      <td>30014.0</td>\n",
       "      <td>57802.75</td>\n",
       "      <td>77598.0</td>\n",
       "      <td>100831.75</td>\n",
       "      <td>118826.0</td>\n",
       "    </tr>\n",
       "  </tbody>\n",
       "</table>\n",
       "</div>"
      ],
      "text/plain": [
       "        count      mean           std      min       25%      50%        75%  \\\n",
       "Gender                                                                         \n",
       "Female   50.0  55836.74  19487.130653  25583.0  38391.50  50971.5   74695.50   \n",
       "Male     50.0  77480.86  23788.896931  30014.0  57802.75  77598.0  100831.75   \n",
       "\n",
       "             max  \n",
       "Gender            \n",
       "Female   89450.0  \n",
       "Male    118826.0  "
      ]
     },
     "execution_count": 55,
     "metadata": {},
     "output_type": "execute_result"
    }
   ],
   "source": [
    "# 3.4 Using .describe() to summarise the HR data by Gender and Salary\n",
    "\n",
    "df2.groupby(by='Gender')['Salary'].describe()"
   ]
  },
  {
   "cell_type": "code",
   "execution_count": 56,
   "metadata": {
    "scrolled": true
   },
   "outputs": [
    {
     "data": {
      "text/plain": [
       "Text(0, 0.5, 'Density')"
      ]
     },
     "execution_count": 56,
     "metadata": {},
     "output_type": "execute_result"
    },
    {
     "data": {
      "image/png": "[encoded data removed]",
      "text/plain": [
       "<Figure size 432x288 with 1 Axes>"
      ]
     },
     "metadata": {
      "needs_background": "light"
     },
     "output_type": "display_data"
    }
   ],
   "source": [
    "# 3.4  Using seaborn to visualise the differences in salary between men and women\n",
    "\n",
    "Male = df2[df.Gender == 'Male']\n",
    "Female = df2[df.Gender == 'Female']\n",
    "\n",
    "sns.distplot(Male['Salary'], hist = True, kde = False, label='Male')\n",
    "sns.distplot(Female['Salary'], hist = True, kde = False, label='Female')\n",
    "\n",
    "# Plot formatting\n",
    "plt.legend(prop={'size': 15})\n",
    "plt.title('Distribution of Salaries: FPB')\n",
    "plt.xlabel('Salary')\n",
    "plt.ylabel('Density') "
   ]
  },
  {
   "cell_type": "code",
   "execution_count": 57,
   "metadata": {},
   "outputs": [
    {
     "data": {
      "text/plain": [
       "<matplotlib.axes._subplots.AxesSubplot at 0x2b0d50a7a48>"
      ]
     },
     "execution_count": 57,
     "metadata": {},
     "output_type": "execute_result"
    },
    {
     "data": {
      "image/png": "[encoded data removed]",
      "text/plain": [
       "<Figure size 432x288 with 1 Axes>"
      ]
     },
     "metadata": {
      "needs_background": "light"
     },
     "output_type": "display_data"
    }
   ],
   "source": [
    "# 3.4 Visualising the Salary data spread using Boxplot (seaborn)\n",
    "\n",
    "sns.boxplot(x=df2['Salary'], y=df2['Gender'])"
   ]
  },
  {
   "cell_type": "markdown",
   "metadata": {},
   "source": [
    "* The Boxplot summarises the points that I have discussed so far :\n",
    "* Male employees while having a wider interquartile range also have higher salaries on average and a higher maximum salary amount"
   ]
  },
  {
   "cell_type": "markdown",
   "metadata": {},
   "source": [
    "### Defining and Testing my hypotheses"
   ]
  },
  {
   "cell_type": "markdown",
   "metadata": {},
   "source": [
    "**H<sub>0</sub>** : There is no Employment bias based on Gender (pay) at FPB (e.g there is no difference the salaries of Male and Female employees)\n",
    "\n",
    "**H<sub>A</sub>** : There is an Employment bias based on Gender (pay) at FPB \n",
    "\n",
    "Significance level : 95% (p< 0.05)"
   ]
  },
  {
   "cell_type": "code",
   "execution_count": 58,
   "metadata": {},
   "outputs": [],
   "source": [
    "# 4.1 Creating a subset of the \"Salary\" column by Gender\n",
    "\n",
    "Male_salary = df2[df2['Gender']=='Male']['Salary']\n",
    "\n",
    "Female_salary = df2[df2['Gender']=='Female']['Salary']"
   ]
  },
  {
   "cell_type": "code",
   "execution_count": 59,
   "metadata": {},
   "outputs": [
    {
     "data": {
      "text/plain": [
       "1    44147\n",
       "2    93715\n",
       "4    67142\n",
       "Name: Salary, dtype: int64"
      ]
     },
     "execution_count": 59,
     "metadata": {},
     "output_type": "execute_result"
    }
   ],
   "source": [
    "# 4.1 Checking that the new subsets have been created correctly\n",
    "\n",
    "Male_salary.head(3)"
   ]
  },
  {
   "cell_type": "code",
   "execution_count": 60,
   "metadata": {},
   "outputs": [
    {
     "data": {
      "text/plain": [
       "0    82232\n",
       "3    64922\n",
       "7    89450\n",
       "Name: Salary, dtype: int64"
      ]
     },
     "execution_count": 60,
     "metadata": {},
     "output_type": "execute_result"
    }
   ],
   "source": [
    "# 4.1 Checking that the new subsets have been created correctly\n",
    "\n",
    "Female_salary.head(3)"
   ]
  },
  {
   "cell_type": "code",
   "execution_count": 61,
   "metadata": {},
   "outputs": [
    {
     "data": {
      "text/plain": [
       "NormaltestResult(statistic=6.282480752279872, pvalue=0.043229144234422145)"
      ]
     },
     "execution_count": 61,
     "metadata": {},
     "output_type": "execute_result"
    }
   ],
   "source": [
    "# 4.2 Testing for normality in our data set.\n",
    "\n",
    "Male_normal = stats.normaltest(Male_salary)\n",
    "Male_normal"
   ]
  },
  {
   "cell_type": "code",
   "execution_count": 62,
   "metadata": {},
   "outputs": [
    {
     "data": {
      "text/plain": [
       "NormaltestResult(statistic=23.505764497893452, pvalue=7.866618567292588e-06)"
      ]
     },
     "execution_count": 62,
     "metadata": {},
     "output_type": "execute_result"
    }
   ],
   "source": [
    "# 4.2 Testing for normality in our data set.\n",
    "\n",
    "Female_normal = stats.normaltest(Female_salary)\n",
    "Female_normal"
   ]
  },
  {
   "cell_type": "code",
   "execution_count": 63,
   "metadata": {
    "scrolled": true
   },
   "outputs": [
    {
     "data": {
      "image/png": "[encoded data removed]",
      "text/plain": [
       "<Figure size 432x288 with 1 Axes>"
      ]
     },
     "metadata": {
      "needs_background": "light"
     },
     "output_type": "display_data"
    }
   ],
   "source": [
    "# 4.2 Testing for normality in our data set.\n",
    "\n",
    "histoMale_salary = plt.hist(Male_salary)"
   ]
  },
  {
   "cell_type": "code",
   "execution_count": 64,
   "metadata": {
    "scrolled": false
   },
   "outputs": [
    {
     "data": {
      "image/png": "[encoded data removed]",
      "text/plain": [
       "<Figure size 432x288 with 1 Axes>"
      ]
     },
     "metadata": {
      "needs_background": "light"
     },
     "output_type": "display_data"
    }
   ],
   "source": [
    "# 4.2 Testing for normality in our data set.\n",
    "\n",
    "histoFemale_salary = plt.hist(Female_salary)"
   ]
  },
  {
   "cell_type": "code",
   "execution_count": 65,
   "metadata": {},
   "outputs": [],
   "source": [
    "# 4.3 Using function mann_whitney test to see if there are differences between the salaries of men and women\n",
    "\n",
    "mann_whitney = stats.mannwhitneyu(Male_salary, Female_salary)"
   ]
  },
  {
   "cell_type": "code",
   "execution_count": 66,
   "metadata": {},
   "outputs": [
    {
     "name": "stdout",
     "output_type": "stream",
     "text": [
      "The p-value is 1.2082264089084797e-05 so the observed differences are very unlikely to be due to chance. I reject the null hypothesis.\n"
     ]
    }
   ],
   "source": [
    "# 4.3 Using function mann_whitney test to see if there are differences between the salaries of men and women\n",
    "\n",
    "if mann_whitney.pvalue < 0.05:\n",
    "    print('The p-value is', mann_whitney.pvalue,\n",
    "          'so the observed differences are very unlikely to be due to chance. I reject the null hypothesis.')\n",
    "else:\n",
    "    print('The p-value is', mann_whitney.pvalue,\n",
    "          'so the observed differences are likely to be due to chance. I accept the null hypothesis.')"
   ]
  },
  {
   "cell_type": "code",
   "execution_count": 67,
   "metadata": {},
   "outputs": [],
   "source": [
    "# 4.4 An alternative test. Using function stats.ttest to see if there are differences between  the salaries of men and women.\n",
    "\n",
    "t_test = stats.ttest_ind(Male_salary, Female_salary)"
   ]
  },
  {
   "cell_type": "code",
   "execution_count": 68,
   "metadata": {},
   "outputs": [
    {
     "name": "stdout",
     "output_type": "stream",
     "text": [
      "The p-value was : 2.7650476599728173e-06 The observed differences are very unlikely to be due to chance, I reject the null hypothesis\n"
     ]
    }
   ],
   "source": [
    "# 4.4 An alternative test.Using function stats.ttest to see if there are differences between  the salaries of men and women.\n",
    "\n",
    "if t_test.pvalue < 0.05 :\n",
    "    print('The p-value was :', t_test.pvalue,\n",
    "         'The observed differences are very unlikely to be due to chance, I reject the null hypothesis')\n",
    "else :\n",
    "    print('The p-value was :',t_test.pvalue,\n",
    "         'The observed differences are likely to be due to chance, I accept the null hypotheses')"
   ]
  },
  {
   "cell_type": "code",
   "execution_count": null,
   "metadata": {},
   "outputs": [],
   "source": []
  }
 ],
 "metadata": {
  "kernelspec": {
   "display_name": "Python 3",
   "language": "python",
   "name": "python3"
  },
  "language_info": {
   "codemirror_mode": {
    "name": "ipython",
    "version": 3
   },
   "file_extension": ".py",
   "mimetype": "text/x-python",
   "name": "python",
   "nbconvert_exporter": "python",
   "pygments_lexer": "ipython3",
   "version": "3.7.4"
  }
 },
 "nbformat": 4,
 "nbformat_minor": 2
}
